{
 "cells": [
  {
   "cell_type": "markdown",
   "metadata": {},
   "source": [
    "Greedy_01"
   ]
  },
  {
   "cell_type": "code",
   "execution_count": 8,
   "metadata": {},
   "outputs": [
    {
     "name": "stdout",
     "output_type": "stream",
     "text": [
      "5 4\n",
      "2\n"
     ]
    }
   ],
   "source": [
    "n, k = map(int, input().split())\n",
    "count_min = 0\n",
    "\n",
    "while True:\n",
    "    target = (n // k) * k\n",
    "    count_min +=  n - target\n",
    "    n = target\n",
    "    if n < k:\n",
    "        break\n",
    "    count_min += 1     \n",
    "    n //= k\n",
    "count_min += n - 1\n",
    "print(count_min)"
   ]
  },
  {
   "cell_type": "markdown",
   "metadata": {},
   "source": [
    "Greedy_02"
   ]
  },
  {
   "cell_type": "markdown",
   "metadata": {},
   "source": [
    "Key\n",
    "* 일반적으로 곱하는게 가장 커짐\n",
    "* But 0과 1 다음은 더하기"
   ]
  },
  {
   "cell_type": "code",
   "execution_count": 7,
   "metadata": {},
   "outputs": [
    {
     "name": "stdout",
     "output_type": "stream",
     "text": [
      "02984\n",
      "576\n"
     ]
    }
   ],
   "source": [
    "S = input() \n",
    "max_ = int(S[0])\n",
    "\n",
    "for i in range(1, len(S)):\n",
    "    num = int(S[i])\n",
    "    if (max_ <= 1 or num <= 1):\n",
    "        max_ += num\n",
    "    else:\n",
    "        max_ *= num\n",
    "print(max_)"
   ]
  },
  {
   "cell_type": "markdown",
   "metadata": {},
   "source": [
    "Greedy_03"
   ]
  },
  {
   "cell_type": "code",
   "execution_count": null,
   "metadata": {},
   "outputs": [],
   "source": []
  }
 ],
 "metadata": {
  "kernelspec": {
   "display_name": "Python 3",
   "language": "python",
   "name": "python3"
  },
  "language_info": {
   "codemirror_mode": {
    "name": "ipython",
    "version": 3
   },
   "file_extension": ".py",
   "mimetype": "text/x-python",
   "name": "python",
   "nbconvert_exporter": "python",
   "pygments_lexer": "ipython3",
   "version": "3.7.3"
  }
 },
 "nbformat": 4,
 "nbformat_minor": 4
}
