{
 "cells": [
  {
   "cell_type": "markdown",
   "metadata": {},
   "source": [
    "* 문제 출처\n",
    "> https://www.youtube.com/watch?v=2zjoKjt97vQ&list=PLRx0vPvlEmdAghTr5mXQxGpHjWqSz0dgC&index=2&t=1584s"
   ]
  },
  {
   "cell_type": "markdown",
   "metadata": {},
   "source": [
    "Greedy_01"
   ]
  },
  {
   "cell_type": "code",
   "execution_count": 8,
   "metadata": {},
   "outputs": [
    {
     "name": "stdout",
     "output_type": "stream",
     "text": [
      "5 4\n",
      "2\n"
     ]
    }
   ],
   "source": [
    "n, k = map(int, input().split())\n",
    "count_min = 0\n",
    "\n",
    "while True:\n",
    "    target = (n // k) * k\n",
    "    count_min +=  n - target\n",
    "    n = target\n",
    "    if n < k:\n",
    "        break\n",
    "    count_min += 1     \n",
    "    n //= k\n",
    "count_min += n - 1\n",
    "print(count_min)"
   ]
  },
  {
   "cell_type": "markdown",
   "metadata": {},
   "source": [
    "Greedy_02"
   ]
  },
  {
   "cell_type": "markdown",
   "metadata": {},
   "source": [
    "I think\n",
    "* 일반적으로 곱하는게 가장 커짐\n",
    "* But 0과 1 다음은 더하기"
   ]
  },
  {
   "cell_type": "code",
   "execution_count": 7,
   "metadata": {},
   "outputs": [
    {
     "name": "stdout",
     "output_type": "stream",
     "text": [
      "02984\n",
      "576\n"
     ]
    }
   ],
   "source": [
    "S = input() \n",
    "max_ = int(S[0])\n",
    "\n",
    "for i in range(1, len(S)):\n",
    "    num = int(S[i])\n",
    "    if (max_ <= 1 or num <= 1):\n",
    "        max_ += num\n",
    "    else:\n",
    "        max_ *= num\n",
    "print(max_)"
   ]
  },
  {
   "cell_type": "markdown",
   "metadata": {},
   "source": [
    "Greedy_03"
   ]
  },
  {
   "cell_type": "markdown",
   "metadata": {},
   "source": [
    "I think\n",
    "* 내림차순으로 정렬 후 최댓값으로 무리를 나눔?\n",
    ">ex) 1 3 2 1 2 => 3 2 2 1 1 => 3(★) 2 2 // 1 // 1 "
   ]
  },
  {
   "cell_type": "code",
   "execution_count": 14,
   "metadata": {},
   "outputs": [
    {
     "name": "stdout",
     "output_type": "stream",
     "text": [
      "3\n",
      "1 2 3\n",
      "[3, 2, 1]\n"
     ]
    }
   ],
   "source": [
    "n = int(input())\n",
    "gongpo = list(map(int, input().split()))\n",
    "gongpo.sort(reverse=True)\n",
    "\n",
    "for i in gongpo:\n",
    "    "
   ]
  },
  {
   "cell_type": "markdown",
   "metadata": {},
   "source": [
    "Answer"
   ]
  },
  {
   "cell_type": "code",
   "execution_count": 17,
   "metadata": {},
   "outputs": [
    {
     "name": "stdout",
     "output_type": "stream",
     "text": [
      "5\n",
      "2 3 1 2 2\n",
      "2\n"
     ]
    }
   ],
   "source": [
    "n = int(input())\n",
    "data = list(map(int, input().split()))\n",
    "data.sort()\n",
    "\n",
    "result = 0 # 총 그룹\n",
    "count = 0 # 현재 그룹에 포함된 모험가의 수\n",
    "\n",
    "for i in data: # 공포도가 낮은 모험가부터 하나씩 확인\n",
    "    count += 1 # 현재 그룹에 모험가 포함\n",
    "    if count >= i: # 그룹에 포함된 모험가의 수가 공포도 이상이면 그룹 결성\n",
    "        result += 1\n",
    "        count = 0\n",
    "print(result)\n",
    "        "
   ]
  },
  {
   "cell_type": "markdown",
   "metadata": {},
   "source": [
    "* revenge"
   ]
  },
  {
   "cell_type": "code",
   "execution_count": 20,
   "metadata": {},
   "outputs": [
    {
     "name": "stdout",
     "output_type": "stream",
     "text": [
      "5\n",
      "2 3 1 2 2\n",
      "3\n"
     ]
    }
   ],
   "source": [
    "n = int(input())\n",
    "gongpo = list(map(int, input().split()))\n",
    "gongpo.sort(reverse=True) # 3 2 2 2 1\n",
    "\n",
    "group = 0 # 그룹 수\n",
    "member = 0 # 그룹 내 멤버 수\n",
    "\n",
    "for i in gongpo:\n",
    "    member += 1\n",
    "    if member >= i:\n",
    "        group += 1\n",
    "        member = 0\n",
    "print(group)"
   ]
  },
  {
   "cell_type": "markdown",
   "metadata": {},
   "source": [
    "* 내림차순으로 정렬하면 3 2 // 2 2 // 1 로 나뉘어져서 하나씩 확인하는 반복문으로 풀이 불가..\n",
    "* 마을에 남아있는 모험가가 존재해도 되므로 모든 모험가를 그룹에 넣을 필요 없음.\n",
    "* 문제 잘 읽고 조건 파악 확실히 하기"
   ]
  },
  {
   "cell_type": "code",
   "execution_count": null,
   "metadata": {},
   "outputs": [],
   "source": []
  }
 ],
 "metadata": {
  "kernelspec": {
   "display_name": "Python 3",
   "language": "python",
   "name": "python3"
  },
  "language_info": {
   "codemirror_mode": {
    "name": "ipython",
    "version": 3
   },
   "file_extension": ".py",
   "mimetype": "text/x-python",
   "name": "python",
   "nbconvert_exporter": "python",
   "pygments_lexer": "ipython3",
   "version": "3.7.3"
  }
 },
 "nbformat": 4,
 "nbformat_minor": 4
}
