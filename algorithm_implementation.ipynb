{
 "cells": [
  {
   "cell_type": "markdown",
   "metadata": {},
   "source": [
    "* 문제출처\n",
    "> https://www.youtube.com/watch?v=2zjoKjt97vQ&list=PLRx0vPvlEmdAghTr5mXQxGpHjWqSz0dgC&index=2&t=1940s"
   ]
  },
  {
   "cell_type": "markdown",
   "metadata": {},
   "source": [
    "I think\n",
    "* R, L, U, D를 구현하고 plan 리스트에서 plan 만큼 반복문 실행."
   ]
  },
  {
   "cell_type": "code",
   "execution_count": 11,
   "metadata": {},
   "outputs": [
    {
     "name": "stdout",
     "output_type": "stream",
     "text": [
      "5\n",
      "R R R U D D\n",
      "3 4\n"
     ]
    }
   ],
   "source": [
    "n = int(input())\n",
    "plan = list(input().split())\n",
    "\n",
    "x, y = 1, 1\n",
    "\n",
    "# 동서남북 좌표 구현 (순서 : 동 서 남 북)\n",
    "# 동쪽으로 한칸 이동(R) : (1. 1) 에서 (1, 2)로 이동. 따라서 (1, 1) + // (0, 1) //\n",
    "\n",
    "dx = [0, 0, 1, -1]\n",
    "dy = [1, -1, 0, 0]\n",
    "\n",
    "for i in plan:\n",
    "    if i == 'R':\n",
    "        if y < n:\n",
    "            x += dx[0]\n",
    "            y += dy[0]\n",
    "        else:\n",
    "            pass\n",
    "    elif i == 'L':\n",
    "        if y > 1:\n",
    "            x += dx[1]\n",
    "            y += dy[1]\n",
    "        else:\n",
    "            pass\n",
    "    elif i == 'D':\n",
    "        if x < n:\n",
    "            x += dx[2]\n",
    "            y += dy[2]\n",
    "        else:\n",
    "            pass\n",
    "    elif i == 'U':\n",
    "        if x > 1:\n",
    "            x += dx[3]\n",
    "            y += dy[3]\n",
    "        else:\n",
    "            pass\n",
    "print(x, y)"
   ]
  },
  {
   "cell_type": "markdown",
   "metadata": {},
   "source": [
    "Answer"
   ]
  },
  {
   "cell_type": "code",
   "execution_count": 9,
   "metadata": {},
   "outputs": [
    {
     "name": "stdout",
     "output_type": "stream",
     "text": [
      "5\n",
      "R R R U D D\n",
      "3 4\n"
     ]
    }
   ],
   "source": [
    "n = int(input())\n",
    "x, y = 1, 1\n",
    "plans = input().split()\n",
    "\n",
    "dx = [0, 0, -1, 1]\n",
    "dy = [-1, 1, 0, 0]\n",
    "move_types = ['L', 'R', 'U', 'D']\n",
    "\n",
    "for plan in plans:\n",
    "    for i in range(len(move_types)):\n",
    "        if plan == move_types[i]:\n",
    "            nx = x + dx[i]\n",
    "            ny = y + dy[i]\n",
    "    if nx < 1 or ny < 1 or nx > n or ny > n:\n",
    "        continue\n",
    "    x, y = nx, ny\n",
    "print(x, y)"
   ]
  },
  {
   "cell_type": "markdown",
   "metadata": {},
   "source": [
    "- Pass : 아무 동작을 하지 않고 다음 코드 실행\n",
    "- Continue : 조건에 일치하면 반복문을 종료하지 않으며 다음코드를 실행하지 않음. \n",
    "- ex) x, y = nx, ny가 실행 안됨\n",
    "\n",
    "- R, L, U, D를 각각 if, elif 할 필요 없이 리스트에 넣어놓고 for문으로 차례대로 확인하면 코드가 짧아짐."
   ]
  },
  {
   "cell_type": "code",
   "execution_count": null,
   "metadata": {},
   "outputs": [],
   "source": []
  }
 ],
 "metadata": {
  "kernelspec": {
   "display_name": "Python 3",
   "language": "python",
   "name": "python3"
  },
  "language_info": {
   "codemirror_mode": {
    "name": "ipython",
    "version": 3
   },
   "file_extension": ".py",
   "mimetype": "text/x-python",
   "name": "python",
   "nbconvert_exporter": "python",
   "pygments_lexer": "ipython3",
   "version": "3.7.3"
  }
 },
 "nbformat": 4,
 "nbformat_minor": 4
}
